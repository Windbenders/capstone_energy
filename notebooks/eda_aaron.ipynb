{
 "cells": [
  {
   "cell_type": "code",
   "execution_count": 2,
   "metadata": {},
   "outputs": [],
   "source": [
    "import pandas as pd\n",
    "import seaborn as sns\n",
    "import matplotlib.pyplot as plt\n",
    "%matplotlib inline"
   ]
  },
  {
   "cell_type": "markdown",
   "metadata": {},
   "source": [
    "## Quick EDA on einspeisedaten_gen_wind_speed.csv"
   ]
  },
  {
   "cell_type": "markdown",
   "metadata": {},
   "source": [
    "### Decription\n",
    "\n",
    "#### Features\n",
    "This data set contains of **3** features which are placed in one column each: \n",
    "1) dt_start_utc\n",
    "2) voronoi_area_id\n",
    "3) windspeed_ms\n",
    "\n",
    "---\n",
    "\n",
    "**dt_start_it** contains of timestamps which includes day and time of that day in the format: \n",
    "yyyy-mm-dd hh:mm:ss\n",
    "\n",
    "for the year section:\n",
    "* y = year\n",
    "* m = m\n",
    "* d = d\n",
    "\n",
    "for the time section:\n",
    "* h = hour\n",
    "* m = minute\n",
    "* s = second\n",
    "\n",
    "It remains unclear to this time which time points are recorded by the time stamps. What does start mean, what does it mean?\n",
    "\n",
    "---\n",
    "**voronoi_area_id** means the the the id of each geographical area. Voronoi is a technique to draw optimized areas in this case for meteorological forecasts. So it gives us an overview where the specific wind speeds were oberserved. \n",
    ">Remark: An area overview could be helpful. \n",
    "---\n",
    "**windspeed_ms** is the windspeed in meter per second with six positions after the comma.\n",
    ">Remark: Each feature has 6548085 observations which is due to many time stamps.\n",
    "\n",
    "\n",
    "<br />\n",
    "\n",
    "\n",
    "#### Shape\n",
    "The general shape is 6548085 observations x 3 columns. When you aggregate on the mean of each time stamps you will receive 61348 observations. \n",
    "\n",
    "<br />\n",
    "\n",
    "#### Time range\n",
    "Ranges from '2018-12-31 23:00:00' to '2020-09-30 23:45:00'.\n",
    "\n",
    "<br />\n",
    "\n",
    "#### Missing data\n",
    "There are no missing values in the data set.\n",
    "\n",
    "<br />\n",
    "\n",
    "#### Useful features\n",
    "Is not fully clear at this time."
   ]
  },
  {
   "cell_type": "code",
   "execution_count": 3,
   "metadata": {},
   "outputs": [],
   "source": [
    "einspeise = pd.read_csv('data/einspeisedaten_gen_wind_speed.csv')"
   ]
  },
  {
   "cell_type": "code",
   "execution_count": 4,
   "metadata": {},
   "outputs": [
    {
     "data": {
      "text/plain": [
       "(6548085, 3)"
      ]
     },
     "execution_count": 4,
     "metadata": {},
     "output_type": "execute_result"
    }
   ],
   "source": [
    "einspeise.shape"
   ]
  },
  {
   "cell_type": "code",
   "execution_count": 68,
   "metadata": {},
   "outputs": [
    {
     "data": {
      "text/html": [
       "<div>\n",
       "<style scoped>\n",
       "    .dataframe tbody tr th:only-of-type {\n",
       "        vertical-align: middle;\n",
       "    }\n",
       "\n",
       "    .dataframe tbody tr th {\n",
       "        vertical-align: top;\n",
       "    }\n",
       "\n",
       "    .dataframe thead th {\n",
       "        text-align: right;\n",
       "    }\n",
       "</style>\n",
       "<table border=\"1\" class=\"dataframe\">\n",
       "  <thead>\n",
       "    <tr style=\"text-align: right;\">\n",
       "      <th></th>\n",
       "      <th>dt_start_utc</th>\n",
       "      <th>voronoi_area_id</th>\n",
       "      <th>windspeed_ms</th>\n",
       "    </tr>\n",
       "  </thead>\n",
       "  <tbody>\n",
       "    <tr>\n",
       "      <th>0</th>\n",
       "      <td>2018-12-31 23:00:00</td>\n",
       "      <td>57.489796</td>\n",
       "      <td>12.546520</td>\n",
       "    </tr>\n",
       "    <tr>\n",
       "      <th>1</th>\n",
       "      <td>2018-12-31 23:15:00</td>\n",
       "      <td>56.683673</td>\n",
       "      <td>12.807367</td>\n",
       "    </tr>\n",
       "    <tr>\n",
       "      <th>2</th>\n",
       "      <td>2018-12-31 23:30:00</td>\n",
       "      <td>55.153061</td>\n",
       "      <td>13.006173</td>\n",
       "    </tr>\n",
       "    <tr>\n",
       "      <th>3</th>\n",
       "      <td>2018-12-31 23:45:00</td>\n",
       "      <td>53.516484</td>\n",
       "      <td>13.161484</td>\n",
       "    </tr>\n",
       "    <tr>\n",
       "      <th>4</th>\n",
       "      <td>2019-01-01 00:00:00</td>\n",
       "      <td>54.660000</td>\n",
       "      <td>13.135320</td>\n",
       "    </tr>\n",
       "    <tr>\n",
       "      <th>...</th>\n",
       "      <td>...</td>\n",
       "      <td>...</td>\n",
       "      <td>...</td>\n",
       "    </tr>\n",
       "    <tr>\n",
       "      <th>61343</th>\n",
       "      <td>2020-09-30 22:45:00</td>\n",
       "      <td>55.481481</td>\n",
       "      <td>6.177759</td>\n",
       "    </tr>\n",
       "    <tr>\n",
       "      <th>61344</th>\n",
       "      <td>2020-09-30 23:00:00</td>\n",
       "      <td>55.481481</td>\n",
       "      <td>6.250222</td>\n",
       "    </tr>\n",
       "    <tr>\n",
       "      <th>61345</th>\n",
       "      <td>2020-09-30 23:15:00</td>\n",
       "      <td>55.481481</td>\n",
       "      <td>6.346269</td>\n",
       "    </tr>\n",
       "    <tr>\n",
       "      <th>61346</th>\n",
       "      <td>2020-09-30 23:30:00</td>\n",
       "      <td>55.481481</td>\n",
       "      <td>6.406694</td>\n",
       "    </tr>\n",
       "    <tr>\n",
       "      <th>61347</th>\n",
       "      <td>2020-09-30 23:45:00</td>\n",
       "      <td>55.481481</td>\n",
       "      <td>6.392972</td>\n",
       "    </tr>\n",
       "  </tbody>\n",
       "</table>\n",
       "<p>61348 rows × 3 columns</p>\n",
       "</div>"
      ],
      "text/plain": [
       "              dt_start_utc  voronoi_area_id  windspeed_ms\n",
       "0      2018-12-31 23:00:00        57.489796     12.546520\n",
       "1      2018-12-31 23:15:00        56.683673     12.807367\n",
       "2      2018-12-31 23:30:00        55.153061     13.006173\n",
       "3      2018-12-31 23:45:00        53.516484     13.161484\n",
       "4      2019-01-01 00:00:00        54.660000     13.135320\n",
       "...                    ...              ...           ...\n",
       "61343  2020-09-30 22:45:00        55.481481      6.177759\n",
       "61344  2020-09-30 23:00:00        55.481481      6.250222\n",
       "61345  2020-09-30 23:15:00        55.481481      6.346269\n",
       "61346  2020-09-30 23:30:00        55.481481      6.406694\n",
       "61347  2020-09-30 23:45:00        55.481481      6.392972\n",
       "\n",
       "[61348 rows x 3 columns]"
      ]
     },
     "execution_count": 68,
     "metadata": {},
     "output_type": "execute_result"
    }
   ],
   "source": [
    "einspeise.groupby(by=['dt_start_utc']).mean().reset_index()"
   ]
  },
  {
   "cell_type": "code",
   "execution_count": 28,
   "metadata": {},
   "outputs": [
    {
     "data": {
      "text/html": [
       "<div>\n",
       "<style scoped>\n",
       "    .dataframe tbody tr th:only-of-type {\n",
       "        vertical-align: middle;\n",
       "    }\n",
       "\n",
       "    .dataframe tbody tr th {\n",
       "        vertical-align: top;\n",
       "    }\n",
       "\n",
       "    .dataframe thead th {\n",
       "        text-align: right;\n",
       "    }\n",
       "</style>\n",
       "<table border=\"1\" class=\"dataframe\">\n",
       "  <thead>\n",
       "    <tr style=\"text-align: right;\">\n",
       "      <th></th>\n",
       "      <th>dt_start_utc</th>\n",
       "      <th>voronoi_area_id</th>\n",
       "      <th>windspeed_ms</th>\n",
       "    </tr>\n",
       "  </thead>\n",
       "  <tbody>\n",
       "    <tr>\n",
       "      <th>6548075</th>\n",
       "      <td>2020-09-30 23:45:00</td>\n",
       "      <td>100</td>\n",
       "      <td>7.255</td>\n",
       "    </tr>\n",
       "    <tr>\n",
       "      <th>6548076</th>\n",
       "      <td>2020-09-30 23:45:00</td>\n",
       "      <td>101</td>\n",
       "      <td>6.366</td>\n",
       "    </tr>\n",
       "    <tr>\n",
       "      <th>6548077</th>\n",
       "      <td>2020-09-30 23:45:00</td>\n",
       "      <td>102</td>\n",
       "      <td>6.257</td>\n",
       "    </tr>\n",
       "    <tr>\n",
       "      <th>6548078</th>\n",
       "      <td>2020-09-30 23:45:00</td>\n",
       "      <td>103</td>\n",
       "      <td>6.516</td>\n",
       "    </tr>\n",
       "    <tr>\n",
       "      <th>6548079</th>\n",
       "      <td>2020-09-30 23:45:00</td>\n",
       "      <td>104</td>\n",
       "      <td>7.110</td>\n",
       "    </tr>\n",
       "    <tr>\n",
       "      <th>6548080</th>\n",
       "      <td>2020-09-30 23:45:00</td>\n",
       "      <td>105</td>\n",
       "      <td>6.222</td>\n",
       "    </tr>\n",
       "    <tr>\n",
       "      <th>6548081</th>\n",
       "      <td>2020-09-30 23:45:00</td>\n",
       "      <td>106</td>\n",
       "      <td>7.116</td>\n",
       "    </tr>\n",
       "    <tr>\n",
       "      <th>6548082</th>\n",
       "      <td>2020-09-30 23:45:00</td>\n",
       "      <td>107</td>\n",
       "      <td>5.291</td>\n",
       "    </tr>\n",
       "    <tr>\n",
       "      <th>6548083</th>\n",
       "      <td>2020-09-30 23:45:00</td>\n",
       "      <td>108</td>\n",
       "      <td>7.096</td>\n",
       "    </tr>\n",
       "    <tr>\n",
       "      <th>6548084</th>\n",
       "      <td>2020-09-30 23:45:00</td>\n",
       "      <td>109</td>\n",
       "      <td>5.785</td>\n",
       "    </tr>\n",
       "  </tbody>\n",
       "</table>\n",
       "</div>"
      ],
      "text/plain": [
       "                dt_start_utc  voronoi_area_id  windspeed_ms\n",
       "6548075  2020-09-30 23:45:00              100         7.255\n",
       "6548076  2020-09-30 23:45:00              101         6.366\n",
       "6548077  2020-09-30 23:45:00              102         6.257\n",
       "6548078  2020-09-30 23:45:00              103         6.516\n",
       "6548079  2020-09-30 23:45:00              104         7.110\n",
       "6548080  2020-09-30 23:45:00              105         6.222\n",
       "6548081  2020-09-30 23:45:00              106         7.116\n",
       "6548082  2020-09-30 23:45:00              107         5.291\n",
       "6548083  2020-09-30 23:45:00              108         7.096\n",
       "6548084  2020-09-30 23:45:00              109         5.785"
      ]
     },
     "execution_count": 28,
     "metadata": {},
     "output_type": "execute_result"
    }
   ],
   "source": [
    "einspeise.tail(10)"
   ]
  },
  {
   "cell_type": "code",
   "execution_count": 31,
   "metadata": {},
   "outputs": [
    {
     "data": {
      "text/plain": [
       "61348"
      ]
     },
     "execution_count": 31,
     "metadata": {},
     "output_type": "execute_result"
    }
   ],
   "source": [
    "einspeise.dt_start_utc.nunique()"
   ]
  },
  {
   "cell_type": "code",
   "execution_count": 30,
   "metadata": {},
   "outputs": [
    {
     "data": {
      "text/plain": [
       "'2020-09-30 23:45:00'"
      ]
     },
     "execution_count": 30,
     "metadata": {},
     "output_type": "execute_result"
    }
   ],
   "source": [
    "einspeise.dt_start_utc.max()"
   ]
  },
  {
   "cell_type": "code",
   "execution_count": 33,
   "metadata": {},
   "outputs": [
    {
     "data": {
      "text/plain": [
       "'2018-12-31 23:00:00'"
      ]
     },
     "execution_count": 33,
     "metadata": {},
     "output_type": "execute_result"
    }
   ],
   "source": [
    "einspeise.dt_start_utc.min()"
   ]
  },
  {
   "cell_type": "code",
   "execution_count": 20,
   "metadata": {},
   "outputs": [
    {
     "name": "stdout",
     "output_type": "stream",
     "text": [
      "<class 'pandas.core.frame.DataFrame'>\n",
      "RangeIndex: 6548085 entries, 0 to 6548084\n",
      "Data columns (total 3 columns):\n",
      " #   Column           Dtype  \n",
      "---  ------           -----  \n",
      " 0   dt_start_utc     object \n",
      " 1   voronoi_area_id  int64  \n",
      " 2   windspeed_ms     float64\n",
      "dtypes: float64(1), int64(1), object(1)\n",
      "memory usage: 149.9+ MB\n"
     ]
    }
   ],
   "source": [
    "einspeise.info()"
   ]
  },
  {
   "cell_type": "code",
   "execution_count": 7,
   "metadata": {},
   "outputs": [
    {
     "data": {
      "text/html": [
       "<div>\n",
       "<style scoped>\n",
       "    .dataframe tbody tr th:only-of-type {\n",
       "        vertical-align: middle;\n",
       "    }\n",
       "\n",
       "    .dataframe tbody tr th {\n",
       "        vertical-align: top;\n",
       "    }\n",
       "\n",
       "    .dataframe thead th {\n",
       "        text-align: right;\n",
       "    }\n",
       "</style>\n",
       "<table border=\"1\" class=\"dataframe\">\n",
       "  <thead>\n",
       "    <tr style=\"text-align: right;\">\n",
       "      <th></th>\n",
       "      <th>voronoi_area_id</th>\n",
       "      <th>windspeed_ms</th>\n",
       "    </tr>\n",
       "  </thead>\n",
       "  <tbody>\n",
       "    <tr>\n",
       "      <th>count</th>\n",
       "      <td>6.548085e+06</td>\n",
       "      <td>6.548085e+06</td>\n",
       "    </tr>\n",
       "    <tr>\n",
       "      <th>mean</th>\n",
       "      <td>5.546650e+01</td>\n",
       "      <td>6.789224e+00</td>\n",
       "    </tr>\n",
       "    <tr>\n",
       "      <th>std</th>\n",
       "      <td>3.118538e+01</td>\n",
       "      <td>3.162042e+00</td>\n",
       "    </tr>\n",
       "    <tr>\n",
       "      <th>min</th>\n",
       "      <td>1.000000e+00</td>\n",
       "      <td>0.000000e+00</td>\n",
       "    </tr>\n",
       "    <tr>\n",
       "      <th>25%</th>\n",
       "      <td>2.900000e+01</td>\n",
       "      <td>4.589000e+00</td>\n",
       "    </tr>\n",
       "    <tr>\n",
       "      <th>50%</th>\n",
       "      <td>5.500000e+01</td>\n",
       "      <td>6.391000e+00</td>\n",
       "    </tr>\n",
       "    <tr>\n",
       "      <th>75%</th>\n",
       "      <td>8.200000e+01</td>\n",
       "      <td>8.562000e+00</td>\n",
       "    </tr>\n",
       "    <tr>\n",
       "      <th>max</th>\n",
       "      <td>1.090000e+02</td>\n",
       "      <td>2.874000e+01</td>\n",
       "    </tr>\n",
       "  </tbody>\n",
       "</table>\n",
       "</div>"
      ],
      "text/plain": [
       "       voronoi_area_id  windspeed_ms\n",
       "count     6.548085e+06  6.548085e+06\n",
       "mean      5.546650e+01  6.789224e+00\n",
       "std       3.118538e+01  3.162042e+00\n",
       "min       1.000000e+00  0.000000e+00\n",
       "25%       2.900000e+01  4.589000e+00\n",
       "50%       5.500000e+01  6.391000e+00\n",
       "75%       8.200000e+01  8.562000e+00\n",
       "max       1.090000e+02  2.874000e+01"
      ]
     },
     "execution_count": 7,
     "metadata": {},
     "output_type": "execute_result"
    }
   ],
   "source": [
    "einspeise.describe()"
   ]
  },
  {
   "cell_type": "code",
   "execution_count": 8,
   "metadata": {},
   "outputs": [
    {
     "data": {
      "text/plain": [
       "dt_start_utc       0\n",
       "voronoi_area_id    0\n",
       "windspeed_ms       0\n",
       "dtype: int64"
      ]
     },
     "execution_count": 8,
     "metadata": {},
     "output_type": "execute_result"
    }
   ],
   "source": [
    "einspeise.isna().sum()"
   ]
  },
  {
   "cell_type": "code",
   "execution_count": 9,
   "metadata": {},
   "outputs": [
    {
     "data": {
      "text/plain": [
       "dt_start_utc       0\n",
       "voronoi_area_id    0\n",
       "windspeed_ms       0\n",
       "dtype: int64"
      ]
     },
     "execution_count": 9,
     "metadata": {},
     "output_type": "execute_result"
    }
   ],
   "source": [
    "einspeise.isnull().sum()"
   ]
  },
  {
   "cell_type": "code",
   "execution_count": 22,
   "metadata": {},
   "outputs": [
    {
     "data": {
      "text/plain": [
       "<seaborn.axisgrid.PairGrid at 0x12a802250>"
      ]
     },
     "execution_count": 22,
     "metadata": {},
     "output_type": "execute_result"
    },
    {
     "data": {
      "image/png": "[encoded data removed]",
      "text/plain": [
       "<Figure size 360x360 with 6 Axes>"
      ]
     },
     "metadata": {
      "needs_background": "light"
     },
     "output_type": "display_data"
    }
   ],
   "source": [
    "sns.pairplot(einspeise)"
   ]
  },
  {
   "cell_type": "code",
   "execution_count": 65,
   "metadata": {},
   "outputs": [
    {
     "data": {
      "text/plain": [
       "<AxesSubplot:>"
      ]
     },
     "execution_count": 65,
     "metadata": {},
     "output_type": "execute_result"
    },
    {
     "data": {
      "image/png": "[encoded data removed]",
      "text/plain": [
       "<Figure size 864x576 with 1 Axes>"
      ]
     },
     "metadata": {
      "needs_background": "light"
     },
     "output_type": "display_data"
    }
   ],
   "source": [
    "plt.figure(figsize=(12,8))\n",
    "einspeise['windspeed_ms'].plot()\n"
   ]
  },
  {
   "cell_type": "markdown",
   "metadata": {},
   "source": [
    "## Quick EDA on epex_da_de.json"
   ]
  },
  {
   "cell_type": "code",
   "execution_count": 39,
   "metadata": {},
   "outputs": [
    {
     "ename": "TypeError",
     "evalue": "read_json() got an unexpected keyword argument 'header'",
     "output_type": "error",
     "traceback": [
      "\u001b[0;31m---------------------------------------------------------------------------\u001b[0m",
      "\u001b[0;31mTypeError\u001b[0m                                 Traceback (most recent call last)",
      "\u001b[0;32m/var/folders/k7/35tcvfmj1hzbxhmfk0j8bh0r0000gn/T/ipykernel_84540/3224075321.py\u001b[0m in \u001b[0;36m<module>\u001b[0;34m\u001b[0m\n\u001b[0;32m----> 1\u001b[0;31m \u001b[0mepex_da_de\u001b[0m \u001b[0;34m=\u001b[0m \u001b[0mpd\u001b[0m\u001b[0;34m.\u001b[0m\u001b[0mread_json\u001b[0m\u001b[0;34m(\u001b[0m\u001b[0;34m'data/epex_da_de.json'\u001b[0m\u001b[0;34m,\u001b[0m \u001b[0mheader\u001b[0m\u001b[0;34m=\u001b[0m\u001b[0;32mNone\u001b[0m\u001b[0;34m)\u001b[0m\u001b[0;34m\u001b[0m\u001b[0;34m\u001b[0m\u001b[0m\n\u001b[0m",
      "\u001b[0;32m~/.pyenv/versions/3.9.4/lib/python3.9/site-packages/pandas/util/_decorators.py\u001b[0m in \u001b[0;36mwrapper\u001b[0;34m(*args, **kwargs)\u001b[0m\n\u001b[1;32m    197\u001b[0m                 \u001b[0;32melse\u001b[0m\u001b[0;34m:\u001b[0m\u001b[0;34m\u001b[0m\u001b[0;34m\u001b[0m\u001b[0m\n\u001b[1;32m    198\u001b[0m                     \u001b[0mkwargs\u001b[0m\u001b[0;34m[\u001b[0m\u001b[0mnew_arg_name\u001b[0m\u001b[0;34m]\u001b[0m \u001b[0;34m=\u001b[0m \u001b[0mnew_arg_value\u001b[0m\u001b[0;34m\u001b[0m\u001b[0;34m\u001b[0m\u001b[0m\n\u001b[0;32m--> 199\u001b[0;31m             \u001b[0;32mreturn\u001b[0m \u001b[0mfunc\u001b[0m\u001b[0;34m(\u001b[0m\u001b[0;34m*\u001b[0m\u001b[0margs\u001b[0m\u001b[0;34m,\u001b[0m \u001b[0;34m**\u001b[0m\u001b[0mkwargs\u001b[0m\u001b[0;34m)\u001b[0m\u001b[0;34m\u001b[0m\u001b[0;34m\u001b[0m\u001b[0m\n\u001b[0m\u001b[1;32m    200\u001b[0m \u001b[0;34m\u001b[0m\u001b[0m\n\u001b[1;32m    201\u001b[0m         \u001b[0;32mreturn\u001b[0m \u001b[0mcast\u001b[0m\u001b[0;34m(\u001b[0m\u001b[0mF\u001b[0m\u001b[0;34m,\u001b[0m \u001b[0mwrapper\u001b[0m\u001b[0;34m)\u001b[0m\u001b[0;34m\u001b[0m\u001b[0;34m\u001b[0m\u001b[0m\n",
      "\u001b[0;32m~/.pyenv/versions/3.9.4/lib/python3.9/site-packages/pandas/util/_decorators.py\u001b[0m in \u001b[0;36mwrapper\u001b[0;34m(*args, **kwargs)\u001b[0m\n\u001b[1;32m    297\u001b[0m                 )\n\u001b[1;32m    298\u001b[0m                 \u001b[0mwarnings\u001b[0m\u001b[0;34m.\u001b[0m\u001b[0mwarn\u001b[0m\u001b[0;34m(\u001b[0m\u001b[0mmsg\u001b[0m\u001b[0;34m,\u001b[0m \u001b[0mFutureWarning\u001b[0m\u001b[0;34m,\u001b[0m \u001b[0mstacklevel\u001b[0m\u001b[0;34m=\u001b[0m\u001b[0mstacklevel\u001b[0m\u001b[0;34m)\u001b[0m\u001b[0;34m\u001b[0m\u001b[0;34m\u001b[0m\u001b[0m\n\u001b[0;32m--> 299\u001b[0;31m             \u001b[0;32mreturn\u001b[0m \u001b[0mfunc\u001b[0m\u001b[0;34m(\u001b[0m\u001b[0;34m*\u001b[0m\u001b[0margs\u001b[0m\u001b[0;34m,\u001b[0m \u001b[0;34m**\u001b[0m\u001b[0mkwargs\u001b[0m\u001b[0;34m)\u001b[0m\u001b[0;34m\u001b[0m\u001b[0;34m\u001b[0m\u001b[0m\n\u001b[0m\u001b[1;32m    300\u001b[0m \u001b[0;34m\u001b[0m\u001b[0m\n\u001b[1;32m    301\u001b[0m         \u001b[0;32mreturn\u001b[0m \u001b[0mwrapper\u001b[0m\u001b[0;34m\u001b[0m\u001b[0;34m\u001b[0m\u001b[0m\n",
      "\u001b[0;31mTypeError\u001b[0m: read_json() got an unexpected keyword argument 'header'"
     ]
    }
   ],
   "source": [
    "epex_da_de = pd.read_json('data/epex_da_de.json', header=None)\n"
   ]
  },
  {
   "cell_type": "markdown",
   "metadata": {},
   "source": [
    "## Quick EDA on EQ_epex_da_prognosis.csv"
   ]
  },
  {
   "cell_type": "code",
   "execution_count": 35,
   "metadata": {},
   "outputs": [
    {
     "data": {
      "text/html": [
       "<div>\n",
       "<style scoped>\n",
       "    .dataframe tbody tr th:only-of-type {\n",
       "        vertical-align: middle;\n",
       "    }\n",
       "\n",
       "    .dataframe tbody tr th {\n",
       "        vertical-align: top;\n",
       "    }\n",
       "\n",
       "    .dataframe thead th {\n",
       "        text-align: right;\n",
       "    }\n",
       "</style>\n",
       "<table border=\"1\" class=\"dataframe\">\n",
       "  <thead>\n",
       "    <tr style=\"text-align: right;\">\n",
       "      <th></th>\n",
       "      <th>0</th>\n",
       "      <th>1</th>\n",
       "      <th>2</th>\n",
       "    </tr>\n",
       "  </thead>\n",
       "  <tbody>\n",
       "    <tr>\n",
       "      <th>0</th>\n",
       "      <td>2018-12-27 23:00:00</td>\n",
       "      <td>42.49</td>\n",
       "      <td>2018-12-26 23:00:00</td>\n",
       "    </tr>\n",
       "    <tr>\n",
       "      <th>1</th>\n",
       "      <td>2018-12-28 00:00:00</td>\n",
       "      <td>35.95</td>\n",
       "      <td>2018-12-26 23:00:00</td>\n",
       "    </tr>\n",
       "    <tr>\n",
       "      <th>2</th>\n",
       "      <td>2018-12-28 01:00:00</td>\n",
       "      <td>34.18</td>\n",
       "      <td>2018-12-26 23:00:00</td>\n",
       "    </tr>\n",
       "    <tr>\n",
       "      <th>3</th>\n",
       "      <td>2018-12-28 02:00:00</td>\n",
       "      <td>34.00</td>\n",
       "      <td>2018-12-26 23:00:00</td>\n",
       "    </tr>\n",
       "    <tr>\n",
       "      <th>4</th>\n",
       "      <td>2018-12-28 03:00:00</td>\n",
       "      <td>34.79</td>\n",
       "      <td>2018-12-26 23:00:00</td>\n",
       "    </tr>\n",
       "  </tbody>\n",
       "</table>\n",
       "</div>"
      ],
      "text/plain": [
       "                     0      1                    2\n",
       "0  2018-12-27 23:00:00  42.49  2018-12-26 23:00:00\n",
       "1  2018-12-28 00:00:00  35.95  2018-12-26 23:00:00\n",
       "2  2018-12-28 01:00:00  34.18  2018-12-26 23:00:00\n",
       "3  2018-12-28 02:00:00  34.00  2018-12-26 23:00:00\n",
       "4  2018-12-28 03:00:00  34.79  2018-12-26 23:00:00"
      ]
     },
     "execution_count": 35,
     "metadata": {},
     "output_type": "execute_result"
    }
   ],
   "source": [
    "EQ_epex = pd.read_csv('data/EQ_epex_da_prognosis.csv', header=None) \n",
    "EQ_epex.head()"
   ]
  },
  {
   "cell_type": "code",
   "execution_count": 36,
   "metadata": {},
   "outputs": [
    {
     "data": {
      "text/plain": [
       "(483097, 3)"
      ]
     },
     "execution_count": 36,
     "metadata": {},
     "output_type": "execute_result"
    }
   ],
   "source": [
    "EQ_epex.shape"
   ]
  },
  {
   "cell_type": "code",
   "execution_count": 19,
   "metadata": {},
   "outputs": [
    {
     "name": "stdout",
     "output_type": "stream",
     "text": [
      "<class 'pandas.core.frame.DataFrame'>\n",
      "RangeIndex: 483096 entries, 0 to 483095\n",
      "Data columns (total 3 columns):\n",
      " #   Column               Non-Null Count   Dtype  \n",
      "---  ------               --------------   -----  \n",
      " 0   2018-12-27 23:00:00  483096 non-null  object \n",
      " 1   42.49                483096 non-null  float64\n",
      " 2   2018-12-26 23:00:00  483096 non-null  object \n",
      "dtypes: float64(1), object(2)\n",
      "memory usage: 11.1+ MB\n"
     ]
    }
   ],
   "source": [
    "EQ_epex.info()"
   ]
  },
  {
   "cell_type": "code",
   "execution_count": 37,
   "metadata": {},
   "outputs": [
    {
     "data": {
      "text/html": [
       "<div>\n",
       "<style scoped>\n",
       "    .dataframe tbody tr th:only-of-type {\n",
       "        vertical-align: middle;\n",
       "    }\n",
       "\n",
       "    .dataframe tbody tr th {\n",
       "        vertical-align: top;\n",
       "    }\n",
       "\n",
       "    .dataframe thead th {\n",
       "        text-align: right;\n",
       "    }\n",
       "</style>\n",
       "<table border=\"1\" class=\"dataframe\">\n",
       "  <thead>\n",
       "    <tr style=\"text-align: right;\">\n",
       "      <th></th>\n",
       "      <th>1</th>\n",
       "    </tr>\n",
       "  </thead>\n",
       "  <tbody>\n",
       "    <tr>\n",
       "      <th>count</th>\n",
       "      <td>483097.000000</td>\n",
       "    </tr>\n",
       "    <tr>\n",
       "      <th>mean</th>\n",
       "      <td>41.623158</td>\n",
       "    </tr>\n",
       "    <tr>\n",
       "      <th>std</th>\n",
       "      <td>17.094543</td>\n",
       "    </tr>\n",
       "    <tr>\n",
       "      <th>min</th>\n",
       "      <td>-197.710000</td>\n",
       "    </tr>\n",
       "    <tr>\n",
       "      <th>25%</th>\n",
       "      <td>30.730000</td>\n",
       "    </tr>\n",
       "    <tr>\n",
       "      <th>50%</th>\n",
       "      <td>40.260000</td>\n",
       "    </tr>\n",
       "    <tr>\n",
       "      <th>75%</th>\n",
       "      <td>51.200000</td>\n",
       "    </tr>\n",
       "    <tr>\n",
       "      <th>max</th>\n",
       "      <td>141.100000</td>\n",
       "    </tr>\n",
       "  </tbody>\n",
       "</table>\n",
       "</div>"
      ],
      "text/plain": [
       "                   1\n",
       "count  483097.000000\n",
       "mean       41.623158\n",
       "std        17.094543\n",
       "min      -197.710000\n",
       "25%        30.730000\n",
       "50%        40.260000\n",
       "75%        51.200000\n",
       "max       141.100000"
      ]
     },
     "execution_count": 37,
     "metadata": {},
     "output_type": "execute_result"
    }
   ],
   "source": [
    "EQ_epex.describe()"
   ]
  },
  {
   "cell_type": "code",
   "execution_count": 17,
   "metadata": {},
   "outputs": [
    {
     "data": {
      "text/plain": [
       "2018-12-27 23:00:00    0\n",
       "42.49                  0\n",
       "2018-12-26 23:00:00    0\n",
       "dtype: int64"
      ]
     },
     "execution_count": 17,
     "metadata": {},
     "output_type": "execute_result"
    }
   ],
   "source": [
    "EQ_epex.isnull().sum()"
   ]
  },
  {
   "cell_type": "code",
   "execution_count": 18,
   "metadata": {},
   "outputs": [
    {
     "data": {
      "text/plain": [
       "2018-12-27 23:00:00    0\n",
       "42.49                  0\n",
       "2018-12-26 23:00:00    0\n",
       "dtype: int64"
      ]
     },
     "execution_count": 18,
     "metadata": {},
     "output_type": "execute_result"
    }
   ],
   "source": [
    "EQ_epex.isna().sum()"
   ]
  },
  {
   "cell_type": "code",
   "execution_count": 38,
   "metadata": {},
   "outputs": [
    {
     "data": {
      "text/plain": [
       "<seaborn.axisgrid.PairGrid at 0x12bc62af0>"
      ]
     },
     "execution_count": 38,
     "metadata": {},
     "output_type": "execute_result"
    },
    {
     "data": {
      "image/png": "[encoded data removed]",
      "text/plain": [
       "<Figure size 180x180 with 2 Axes>"
      ]
     },
     "metadata": {
      "needs_background": "light"
     },
     "output_type": "display_data"
    }
   ],
   "source": [
    "sns.pairplot(EQ_epex)"
   ]
  }
 ],
 "metadata": {
  "interpreter": {
   "hash": "e3d34a6d140323196067af0d3a6fbe2ad97fdbd9ea933afb3f69f0c432ec5c37"
  },
  "kernelspec": {
   "display_name": "Python 3.9.4 64-bit ('3.9.4': pyenv)",
   "language": "python",
   "name": "python3"
  },
  "language_info": {
   "codemirror_mode": {
    "name": "ipython",
    "version": 3
   },
   "file_extension": ".py",
   "mimetype": "text/x-python",
   "name": "python",
   "nbconvert_exporter": "python",
   "pygments_lexer": "ipython3",
   "version": "3.9.4"
  },
  "orig_nbformat": 4
 },
 "nbformat": 4,
 "nbformat_minor": 2
}
